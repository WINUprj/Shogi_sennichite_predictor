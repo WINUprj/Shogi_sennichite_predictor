{
 "cells": [
  {
   "cell_type": "markdown",
   "metadata": {},
   "source": [
    "# Shogi project notebook\n",
    "\n",
    "This notebook is for an experimental purpose and actually a first project that I applied my data science knowledges.\n",
    "\n",
    "### Background of this project:\n",
    " In Japan (my home country), there is a chess-like board game called \"Shogi\". It's popular in Japan and majority of Japanese knows the rule of it. However, usually amature players do not know some specific rules those only applies when rare special condition occurs. One of them is called \"Sen-nichite\"(千日手). I will not explain what actually is a condition for Sen-nichite, since it requires a prior knowledge of rule for Shogi. Anyways, Sen-nichite is an extremely rare condition that occurs in the game. In a professional league of Shogi, if player faced with Sen-nichite, they need to restart game itself. Now, since professional Shogi players usually has a long career, even Sen-nichite is rare, often they faces with it. This fact encouraged me to figure out (or predict) whether that specific professional player has had Sen-nichite more than 10 times on their career or not.\n",
    "\n",
    "### What to do:\n",
    " Scrape data from following website to get raw data. \n",
    " > http://kenyu1234.php.xdomain.jp/record.php? \n",
    " \n",
    " Then, analyze data and construct predictive model using scikit learn.\n",
    "\n",
    "### Goal\n",
    " Classify player to either \"got Sen-nichite less then 10 times\" or \"got Sen-nichite more than 10 times\" based on input."
   ]
  },
  {
   "cell_type": "markdown",
   "metadata": {},
   "source": [
    "## Actual code stars from here"
   ]
  },
  {
   "cell_type": "code",
   "execution_count": 230,
   "metadata": {},
   "outputs": [
    {
     "name": "stdout",
     "output_type": "stream",
     "text": [
      "The autoreload extension is already loaded. To reload it, use:\n",
      "  %reload_ext autoreload\n"
     ]
    }
   ],
   "source": [
    "# magic command to auto reload external py file\n",
    "%load_ext autoreload\n",
    "%autoreload 2"
   ]
  },
  {
   "cell_type": "code",
   "execution_count": 114,
   "metadata": {},
   "outputs": [],
   "source": [
    "# import data analysis packages\n",
    "import numpy as np\n",
    "import pandas as pd\n",
    "import matplotlib.pyplot as plt\n",
    "import seaborn as sns\n",
    "%matplotlib inline"
   ]
  },
  {
   "cell_type": "code",
   "execution_count": 22,
   "metadata": {},
   "outputs": [],
   "source": [
    "# import user-defined function from original py file\n",
    "from scraper import get_soup, get_table_rows, get_table_columns"
   ]
  },
  {
   "cell_type": "code",
   "execution_count": 41,
   "metadata": {},
   "outputs": [],
   "source": [
    "# target url\n",
    "target_url = 'http://kenyu1234.php.xdomain.jp/record.php?'\n",
    "\n",
    "# get raw data from target url\n",
    "soup = get_soup(target_url, 'html5lib')\n",
    "table_rows = get_table_rows(soup)"
   ]
  },
  {
   "cell_type": "code",
   "execution_count": 84,
   "metadata": {},
   "outputs": [],
   "source": [
    "table_columns = get_table_columns(soup)"
   ]
  },
  {
   "cell_type": "code",
   "execution_count": 85,
   "metadata": {},
   "outputs": [
    {
     "data": {
      "text/html": [
       "<div>\n",
       "<style scoped>\n",
       "    .dataframe tbody tr th:only-of-type {\n",
       "        vertical-align: middle;\n",
       "    }\n",
       "\n",
       "    .dataframe tbody tr th {\n",
       "        vertical-align: top;\n",
       "    }\n",
       "\n",
       "    .dataframe thead th {\n",
       "        text-align: right;\n",
       "    }\n",
       "</style>\n",
       "<table border=\"1\" class=\"dataframe\">\n",
       "  <thead>\n",
       "    <tr style=\"text-align: right;\">\n",
       "      <th></th>\n",
       "      <th>棋番</th>\n",
       "      <th>棋士名</th>\n",
       "      <th>生年月日</th>\n",
       "      <th>年齢</th>\n",
       "      <th>プロ入り</th>\n",
       "      <th>現役期間</th>\n",
       "      <th>師匠</th>\n",
       "      <th>対局</th>\n",
       "      <th>勝数</th>\n",
       "      <th>敗数</th>\n",
       "      <th>...</th>\n",
       "      <th>後勝</th>\n",
       "      <th>後敗</th>\n",
       "      <th>後勝率</th>\n",
       "      <th>不戦勝</th>\n",
       "      <th>不戦敗</th>\n",
       "      <th>持</th>\n",
       "      <th>持将棋/対局数</th>\n",
       "      <th>千</th>\n",
       "      <th>千日手/対局数</th>\n",
       "      <th>先後勝率比</th>\n",
       "    </tr>\n",
       "  </thead>\n",
       "  <tbody>\n",
       "    <tr>\n",
       "      <th>0</th>\n",
       "      <td>2</td>\n",
       "      <td>木村義雄★</td>\n",
       "      <td>1905-02-21</td>\n",
       "      <td>81歳08ヶ月(没)</td>\n",
       "      <td>1920-04-01</td>\n",
       "      <td>32年04ヶ月(引退)</td>\n",
       "      <td>関根金次郎</td>\n",
       "      <td>12</td>\n",
       "      <td>6</td>\n",
       "      <td>6</td>\n",
       "      <td>...</td>\n",
       "      <td>3</td>\n",
       "      <td>5</td>\n",
       "      <td>0.375</td>\n",
       "      <td>0</td>\n",
       "      <td>0</td>\n",
       "      <td>0</td>\n",
       "      <td></td>\n",
       "      <td>0</td>\n",
       "      <td></td>\n",
       "      <td></td>\n",
       "    </tr>\n",
       "    <tr>\n",
       "      <th>1</th>\n",
       "      <td>5</td>\n",
       "      <td>萩原淳★</td>\n",
       "      <td>1904-10-11</td>\n",
       "      <td>83歳02ヶ月(没)</td>\n",
       "      <td>1925-04-01</td>\n",
       "      <td>38年11ヶ月(引退)</td>\n",
       "      <td>土居市太郎</td>\n",
       "      <td>232</td>\n",
       "      <td>85</td>\n",
       "      <td>146</td>\n",
       "      <td>...</td>\n",
       "      <td>9</td>\n",
       "      <td>20</td>\n",
       "      <td>0.310</td>\n",
       "      <td>3</td>\n",
       "      <td>15</td>\n",
       "      <td>2</td>\n",
       "      <td>0.009</td>\n",
       "      <td>1</td>\n",
       "      <td>0.004</td>\n",
       "      <td>1.510</td>\n",
       "    </tr>\n",
       "    <tr>\n",
       "      <th>2</th>\n",
       "      <td>7</td>\n",
       "      <td>大野源一★</td>\n",
       "      <td>1911-09-01</td>\n",
       "      <td>67歳04ヶ月(没)</td>\n",
       "      <td>1929-04-01</td>\n",
       "      <td>49年09ヶ月(引退)</td>\n",
       "      <td>木見金治郎</td>\n",
       "      <td>828</td>\n",
       "      <td>414</td>\n",
       "      <td>413</td>\n",
       "      <td>...</td>\n",
       "      <td>147</td>\n",
       "      <td>140</td>\n",
       "      <td>0.512</td>\n",
       "      <td>2</td>\n",
       "      <td>4</td>\n",
       "      <td>3</td>\n",
       "      <td>0.004</td>\n",
       "      <td>9</td>\n",
       "      <td>0.011</td>\n",
       "      <td>0.920</td>\n",
       "    </tr>\n",
       "    <tr>\n",
       "      <th>3</th>\n",
       "      <td></td>\n",
       "      <td>斎藤銀次郎★</td>\n",
       "      <td>1904-10-07</td>\n",
       "      <td>75歳02ヶ月(没)</td>\n",
       "      <td>1929-04-01</td>\n",
       "      <td>36年04ヶ月(引退)</td>\n",
       "      <td>石井秀吉</td>\n",
       "      <td>259</td>\n",
       "      <td>103</td>\n",
       "      <td>156</td>\n",
       "      <td>...</td>\n",
       "      <td>0</td>\n",
       "      <td>6</td>\n",
       "      <td>0.000</td>\n",
       "      <td>1</td>\n",
       "      <td>0</td>\n",
       "      <td>0</td>\n",
       "      <td></td>\n",
       "      <td>0</td>\n",
       "      <td></td>\n",
       "      <td></td>\n",
       "    </tr>\n",
       "    <tr>\n",
       "      <th>4</th>\n",
       "      <td>9</td>\n",
       "      <td>市川一郎★</td>\n",
       "      <td>1903-02-18</td>\n",
       "      <td>78歳07ヶ月(没)</td>\n",
       "      <td>1930-04-01</td>\n",
       "      <td>25年11ヶ月(引退)</td>\n",
       "      <td>大崎熊雄</td>\n",
       "      <td>49</td>\n",
       "      <td>16</td>\n",
       "      <td>33</td>\n",
       "      <td>...</td>\n",
       "      <td>0</td>\n",
       "      <td>0</td>\n",
       "      <td></td>\n",
       "      <td>0</td>\n",
       "      <td>2</td>\n",
       "      <td>0</td>\n",
       "      <td></td>\n",
       "      <td>1</td>\n",
       "      <td>0.020</td>\n",
       "      <td></td>\n",
       "    </tr>\n",
       "  </tbody>\n",
       "</table>\n",
       "<p>5 rows × 25 columns</p>\n",
       "</div>"
      ],
      "text/plain": [
       "  棋番     棋士名        生年月日          年齢        プロ入り         現役期間     師匠   対局  \\\n",
       "0  2   木村義雄★  1905-02-21  81歳08ヶ月(没)  1920-04-01  32年04ヶ月(引退)  関根金次郎   12   \n",
       "1  5    萩原淳★  1904-10-11  83歳02ヶ月(没)  1925-04-01  38年11ヶ月(引退)  土居市太郎  232   \n",
       "2  7   大野源一★  1911-09-01  67歳04ヶ月(没)  1929-04-01  49年09ヶ月(引退)  木見金治郎  828   \n",
       "3     斎藤銀次郎★  1904-10-07  75歳02ヶ月(没)  1929-04-01  36年04ヶ月(引退)   石井秀吉  259   \n",
       "4  9   市川一郎★  1903-02-18  78歳07ヶ月(没)  1930-04-01  25年11ヶ月(引退)   大崎熊雄   49   \n",
       "\n",
       "    勝数   敗数  ...   後勝   後敗    後勝率 不戦勝 不戦敗  持 持将棋/対局数  千 千日手/対局数  先後勝率比  \n",
       "0    6    6  ...    3    5  0.375   0   0  0          0                 \n",
       "1   85  146  ...    9   20  0.310   3  15  2   0.009  1   0.004  1.510  \n",
       "2  414  413  ...  147  140  0.512   2   4  3   0.004  9   0.011  0.920  \n",
       "3  103  156  ...    0    6  0.000   1   0  0          0                 \n",
       "4   16   33  ...    0    0          0   2  0          1   0.020         \n",
       "\n",
       "[5 rows x 25 columns]"
      ]
     },
     "execution_count": 85,
     "metadata": {},
     "output_type": "execute_result"
    }
   ],
   "source": [
    "# convert scraped raw data into pandas dataframe \n",
    "table_rows = np.array(table_rows).reshape(-1, 25)\n",
    "shogi_table = pd.DataFrame(table_rows, columns=table_columns)\n",
    "shogi_table.head()"
   ]
  },
  {
   "cell_type": "markdown",
   "metadata": {},
   "source": [
    "EDA to start"
   ]
  },
  {
   "cell_type": "code",
   "execution_count": 33,
   "metadata": {},
   "outputs": [
    {
     "data": {
      "text/plain": [
       "(326, 25)"
      ]
     },
     "execution_count": 33,
     "metadata": {},
     "output_type": "execute_result"
    }
   ],
   "source": [
    "shogi_table.shape"
   ]
  },
  {
   "cell_type": "code",
   "execution_count": 86,
   "metadata": {},
   "outputs": [],
   "source": [
    "shogi_table = shogi_table.replace(r'^\\s*$', np.nan, regex=True)"
   ]
  },
  {
   "cell_type": "code",
   "execution_count": 87,
   "metadata": {},
   "outputs": [
    {
     "data": {
      "text/plain": [
       "棋番          15\n",
       "棋士名          0\n",
       "生年月日         0\n",
       "年齢           0\n",
       "プロ入り         0\n",
       "現役期間         0\n",
       "師匠           0\n",
       "対局           0\n",
       "勝数           0\n",
       "敗数           0\n",
       "持局           0\n",
       "勝率           0\n",
       "先勝           0\n",
       "先敗           0\n",
       "先勝率          2\n",
       "後勝           0\n",
       "後敗           0\n",
       "後勝率          2\n",
       "不戦勝          0\n",
       "不戦敗          0\n",
       "持            0\n",
       "持将棋/対局数    119\n",
       "千            0\n",
       "千日手/対局数     18\n",
       "先後勝率比       12\n",
       "dtype: int64"
      ]
     },
     "execution_count": 87,
     "metadata": {},
     "output_type": "execute_result"
    }
   ],
   "source": [
    "shogi_table.isna().sum()"
   ]
  },
  {
   "cell_type": "code",
   "execution_count": 88,
   "metadata": {},
   "outputs": [
    {
     "data": {
      "text/html": [
       "<div>\n",
       "<style scoped>\n",
       "    .dataframe tbody tr th:only-of-type {\n",
       "        vertical-align: middle;\n",
       "    }\n",
       "\n",
       "    .dataframe tbody tr th {\n",
       "        vertical-align: top;\n",
       "    }\n",
       "\n",
       "    .dataframe thead th {\n",
       "        text-align: right;\n",
       "    }\n",
       "</style>\n",
       "<table border=\"1\" class=\"dataframe\">\n",
       "  <thead>\n",
       "    <tr style=\"text-align: right;\">\n",
       "      <th></th>\n",
       "      <th>棋番</th>\n",
       "      <th>棋士名</th>\n",
       "      <th>生年月日</th>\n",
       "      <th>年齢</th>\n",
       "      <th>プロ入り</th>\n",
       "      <th>現役期間</th>\n",
       "      <th>師匠</th>\n",
       "      <th>対局</th>\n",
       "      <th>勝数</th>\n",
       "      <th>敗数</th>\n",
       "      <th>...</th>\n",
       "      <th>後勝</th>\n",
       "      <th>後敗</th>\n",
       "      <th>後勝率</th>\n",
       "      <th>不戦勝</th>\n",
       "      <th>不戦敗</th>\n",
       "      <th>持</th>\n",
       "      <th>持将棋/対局数</th>\n",
       "      <th>千</th>\n",
       "      <th>千日手/対局数</th>\n",
       "      <th>先後勝率比</th>\n",
       "    </tr>\n",
       "  </thead>\n",
       "  <tbody>\n",
       "    <tr>\n",
       "      <th>0</th>\n",
       "      <td>2</td>\n",
       "      <td>木村義雄★</td>\n",
       "      <td>1905-02-21</td>\n",
       "      <td>81歳08ヶ月(没)</td>\n",
       "      <td>1920-04-01</td>\n",
       "      <td>32年04ヶ月(引退)</td>\n",
       "      <td>関根金次郎</td>\n",
       "      <td>12</td>\n",
       "      <td>6</td>\n",
       "      <td>6</td>\n",
       "      <td>...</td>\n",
       "      <td>3</td>\n",
       "      <td>5</td>\n",
       "      <td>0.375</td>\n",
       "      <td>0</td>\n",
       "      <td>0</td>\n",
       "      <td>0</td>\n",
       "      <td>NaN</td>\n",
       "      <td>0</td>\n",
       "      <td>NaN</td>\n",
       "      <td>NaN</td>\n",
       "    </tr>\n",
       "    <tr>\n",
       "      <th>1</th>\n",
       "      <td>5</td>\n",
       "      <td>萩原淳★</td>\n",
       "      <td>1904-10-11</td>\n",
       "      <td>83歳02ヶ月(没)</td>\n",
       "      <td>1925-04-01</td>\n",
       "      <td>38年11ヶ月(引退)</td>\n",
       "      <td>土居市太郎</td>\n",
       "      <td>232</td>\n",
       "      <td>85</td>\n",
       "      <td>146</td>\n",
       "      <td>...</td>\n",
       "      <td>9</td>\n",
       "      <td>20</td>\n",
       "      <td>0.310</td>\n",
       "      <td>3</td>\n",
       "      <td>15</td>\n",
       "      <td>2</td>\n",
       "      <td>0.009</td>\n",
       "      <td>1</td>\n",
       "      <td>0.004</td>\n",
       "      <td>1.510</td>\n",
       "    </tr>\n",
       "    <tr>\n",
       "      <th>2</th>\n",
       "      <td>7</td>\n",
       "      <td>大野源一★</td>\n",
       "      <td>1911-09-01</td>\n",
       "      <td>67歳04ヶ月(没)</td>\n",
       "      <td>1929-04-01</td>\n",
       "      <td>49年09ヶ月(引退)</td>\n",
       "      <td>木見金治郎</td>\n",
       "      <td>828</td>\n",
       "      <td>414</td>\n",
       "      <td>413</td>\n",
       "      <td>...</td>\n",
       "      <td>147</td>\n",
       "      <td>140</td>\n",
       "      <td>0.512</td>\n",
       "      <td>2</td>\n",
       "      <td>4</td>\n",
       "      <td>3</td>\n",
       "      <td>0.004</td>\n",
       "      <td>9</td>\n",
       "      <td>0.011</td>\n",
       "      <td>0.920</td>\n",
       "    </tr>\n",
       "    <tr>\n",
       "      <th>3</th>\n",
       "      <td>NaN</td>\n",
       "      <td>斎藤銀次郎★</td>\n",
       "      <td>1904-10-07</td>\n",
       "      <td>75歳02ヶ月(没)</td>\n",
       "      <td>1929-04-01</td>\n",
       "      <td>36年04ヶ月(引退)</td>\n",
       "      <td>石井秀吉</td>\n",
       "      <td>259</td>\n",
       "      <td>103</td>\n",
       "      <td>156</td>\n",
       "      <td>...</td>\n",
       "      <td>0</td>\n",
       "      <td>6</td>\n",
       "      <td>0.000</td>\n",
       "      <td>1</td>\n",
       "      <td>0</td>\n",
       "      <td>0</td>\n",
       "      <td>NaN</td>\n",
       "      <td>0</td>\n",
       "      <td>NaN</td>\n",
       "      <td>NaN</td>\n",
       "    </tr>\n",
       "    <tr>\n",
       "      <th>4</th>\n",
       "      <td>9</td>\n",
       "      <td>市川一郎★</td>\n",
       "      <td>1903-02-18</td>\n",
       "      <td>78歳07ヶ月(没)</td>\n",
       "      <td>1930-04-01</td>\n",
       "      <td>25年11ヶ月(引退)</td>\n",
       "      <td>大崎熊雄</td>\n",
       "      <td>49</td>\n",
       "      <td>16</td>\n",
       "      <td>33</td>\n",
       "      <td>...</td>\n",
       "      <td>0</td>\n",
       "      <td>0</td>\n",
       "      <td>NaN</td>\n",
       "      <td>0</td>\n",
       "      <td>2</td>\n",
       "      <td>0</td>\n",
       "      <td>NaN</td>\n",
       "      <td>1</td>\n",
       "      <td>0.020</td>\n",
       "      <td>NaN</td>\n",
       "    </tr>\n",
       "  </tbody>\n",
       "</table>\n",
       "<p>5 rows × 25 columns</p>\n",
       "</div>"
      ],
      "text/plain": [
       "    棋番     棋士名        生年月日          年齢        プロ入り         現役期間     師匠   対局  \\\n",
       "0    2   木村義雄★  1905-02-21  81歳08ヶ月(没)  1920-04-01  32年04ヶ月(引退)  関根金次郎   12   \n",
       "1    5    萩原淳★  1904-10-11  83歳02ヶ月(没)  1925-04-01  38年11ヶ月(引退)  土居市太郎  232   \n",
       "2    7   大野源一★  1911-09-01  67歳04ヶ月(没)  1929-04-01  49年09ヶ月(引退)  木見金治郎  828   \n",
       "3  NaN  斎藤銀次郎★  1904-10-07  75歳02ヶ月(没)  1929-04-01  36年04ヶ月(引退)   石井秀吉  259   \n",
       "4    9   市川一郎★  1903-02-18  78歳07ヶ月(没)  1930-04-01  25年11ヶ月(引退)   大崎熊雄   49   \n",
       "\n",
       "    勝数   敗数  ...   後勝   後敗    後勝率 不戦勝 不戦敗  持 持将棋/対局数  千 千日手/対局数  先後勝率比  \n",
       "0    6    6  ...    3    5  0.375   0   0  0     NaN  0     NaN    NaN  \n",
       "1   85  146  ...    9   20  0.310   3  15  2   0.009  1   0.004  1.510  \n",
       "2  414  413  ...  147  140  0.512   2   4  3   0.004  9   0.011  0.920  \n",
       "3  103  156  ...    0    6  0.000   1   0  0     NaN  0     NaN    NaN  \n",
       "4   16   33  ...    0    0    NaN   0   2  0     NaN  1   0.020    NaN  \n",
       "\n",
       "[5 rows x 25 columns]"
      ]
     },
     "execution_count": 88,
     "metadata": {},
     "output_type": "execute_result"
    }
   ],
   "source": [
    "shogi_table.head()"
   ]
  },
  {
   "cell_type": "code",
   "execution_count": 89,
   "metadata": {},
   "outputs": [
    {
     "data": {
      "text/html": [
       "<div>\n",
       "<style scoped>\n",
       "    .dataframe tbody tr th:only-of-type {\n",
       "        vertical-align: middle;\n",
       "    }\n",
       "\n",
       "    .dataframe tbody tr th {\n",
       "        vertical-align: top;\n",
       "    }\n",
       "\n",
       "    .dataframe thead th {\n",
       "        text-align: right;\n",
       "    }\n",
       "</style>\n",
       "<table border=\"1\" class=\"dataframe\">\n",
       "  <thead>\n",
       "    <tr style=\"text-align: right;\">\n",
       "      <th></th>\n",
       "      <th>年齢</th>\n",
       "      <th>現役期間</th>\n",
       "      <th>対局</th>\n",
       "      <th>勝数</th>\n",
       "      <th>敗数</th>\n",
       "      <th>持局</th>\n",
       "      <th>勝率</th>\n",
       "      <th>先勝</th>\n",
       "      <th>先敗</th>\n",
       "      <th>先勝率</th>\n",
       "      <th>後勝</th>\n",
       "      <th>後敗</th>\n",
       "      <th>後勝率</th>\n",
       "      <th>不戦勝</th>\n",
       "      <th>不戦敗</th>\n",
       "      <th>持</th>\n",
       "      <th>千</th>\n",
       "      <th>千日手/対局数</th>\n",
       "      <th>先後勝率比</th>\n",
       "    </tr>\n",
       "  </thead>\n",
       "  <tbody>\n",
       "    <tr>\n",
       "      <th>0</th>\n",
       "      <td>81歳08ヶ月(没)</td>\n",
       "      <td>32年04ヶ月(引退)</td>\n",
       "      <td>12</td>\n",
       "      <td>6</td>\n",
       "      <td>6</td>\n",
       "      <td>0</td>\n",
       "      <td>0.5000</td>\n",
       "      <td>0</td>\n",
       "      <td>0</td>\n",
       "      <td>NaN</td>\n",
       "      <td>3</td>\n",
       "      <td>5</td>\n",
       "      <td>0.375</td>\n",
       "      <td>0</td>\n",
       "      <td>0</td>\n",
       "      <td>0</td>\n",
       "      <td>0</td>\n",
       "      <td>NaN</td>\n",
       "      <td>NaN</td>\n",
       "    </tr>\n",
       "    <tr>\n",
       "      <th>1</th>\n",
       "      <td>83歳02ヶ月(没)</td>\n",
       "      <td>38年11ヶ月(引退)</td>\n",
       "      <td>232</td>\n",
       "      <td>85</td>\n",
       "      <td>146</td>\n",
       "      <td>1</td>\n",
       "      <td>0.3680</td>\n",
       "      <td>15</td>\n",
       "      <td>17</td>\n",
       "      <td>0.469</td>\n",
       "      <td>9</td>\n",
       "      <td>20</td>\n",
       "      <td>0.310</td>\n",
       "      <td>3</td>\n",
       "      <td>15</td>\n",
       "      <td>2</td>\n",
       "      <td>1</td>\n",
       "      <td>0.004</td>\n",
       "      <td>1.510</td>\n",
       "    </tr>\n",
       "    <tr>\n",
       "      <th>2</th>\n",
       "      <td>67歳04ヶ月(没)</td>\n",
       "      <td>49年09ヶ月(引退)</td>\n",
       "      <td>828</td>\n",
       "      <td>414</td>\n",
       "      <td>413</td>\n",
       "      <td>1</td>\n",
       "      <td>0.5006</td>\n",
       "      <td>122</td>\n",
       "      <td>137</td>\n",
       "      <td>0.471</td>\n",
       "      <td>147</td>\n",
       "      <td>140</td>\n",
       "      <td>0.512</td>\n",
       "      <td>2</td>\n",
       "      <td>4</td>\n",
       "      <td>3</td>\n",
       "      <td>9</td>\n",
       "      <td>0.011</td>\n",
       "      <td>0.920</td>\n",
       "    </tr>\n",
       "    <tr>\n",
       "      <th>3</th>\n",
       "      <td>75歳02ヶ月(没)</td>\n",
       "      <td>36年04ヶ月(引退)</td>\n",
       "      <td>259</td>\n",
       "      <td>103</td>\n",
       "      <td>156</td>\n",
       "      <td>0</td>\n",
       "      <td>0.3977</td>\n",
       "      <td>1</td>\n",
       "      <td>10</td>\n",
       "      <td>0.091</td>\n",
       "      <td>0</td>\n",
       "      <td>6</td>\n",
       "      <td>0.000</td>\n",
       "      <td>1</td>\n",
       "      <td>0</td>\n",
       "      <td>0</td>\n",
       "      <td>0</td>\n",
       "      <td>NaN</td>\n",
       "      <td>NaN</td>\n",
       "    </tr>\n",
       "    <tr>\n",
       "      <th>4</th>\n",
       "      <td>78歳07ヶ月(没)</td>\n",
       "      <td>25年11ヶ月(引退)</td>\n",
       "      <td>49</td>\n",
       "      <td>16</td>\n",
       "      <td>33</td>\n",
       "      <td>0</td>\n",
       "      <td>0.3265</td>\n",
       "      <td>1</td>\n",
       "      <td>3</td>\n",
       "      <td>0.250</td>\n",
       "      <td>0</td>\n",
       "      <td>0</td>\n",
       "      <td>NaN</td>\n",
       "      <td>0</td>\n",
       "      <td>2</td>\n",
       "      <td>0</td>\n",
       "      <td>1</td>\n",
       "      <td>0.020</td>\n",
       "      <td>NaN</td>\n",
       "    </tr>\n",
       "  </tbody>\n",
       "</table>\n",
       "</div>"
      ],
      "text/plain": [
       "           年齢         現役期間   対局   勝数   敗数 持局      勝率   先勝   先敗    先勝率   後勝  \\\n",
       "0  81歳08ヶ月(没)  32年04ヶ月(引退)   12    6    6  0  0.5000    0    0    NaN    3   \n",
       "1  83歳02ヶ月(没)  38年11ヶ月(引退)  232   85  146  1  0.3680   15   17  0.469    9   \n",
       "2  67歳04ヶ月(没)  49年09ヶ月(引退)  828  414  413  1  0.5006  122  137  0.471  147   \n",
       "3  75歳02ヶ月(没)  36年04ヶ月(引退)  259  103  156  0  0.3977    1   10  0.091    0   \n",
       "4  78歳07ヶ月(没)  25年11ヶ月(引退)   49   16   33  0  0.3265    1    3  0.250    0   \n",
       "\n",
       "    後敗    後勝率 不戦勝 不戦敗  持  千 千日手/対局数  先後勝率比  \n",
       "0    5  0.375   0   0  0  0     NaN    NaN  \n",
       "1   20  0.310   3  15  2  1   0.004  1.510  \n",
       "2  140  0.512   2   4  3  9   0.011  0.920  \n",
       "3    6  0.000   1   0  0  0     NaN    NaN  \n",
       "4    0    NaN   0   2  0  1   0.020    NaN  "
      ]
     },
     "execution_count": 89,
     "metadata": {},
     "output_type": "execute_result"
    }
   ],
   "source": [
    "# drop unrelated columns for goal\n",
    "shogi_table.drop(['棋番', '棋士名', '生年月日', 'プロ入り', '師匠', '持将棋/対局数'], axis=1, inplace=True)\n",
    "shogi_table.head()"
   ]
  },
  {
   "cell_type": "code",
   "execution_count": 90,
   "metadata": {},
   "outputs": [
    {
     "data": {
      "text/plain": [
       "年齢          0\n",
       "現役期間        0\n",
       "対局          0\n",
       "勝数          0\n",
       "敗数          0\n",
       "持局          0\n",
       "勝率          0\n",
       "先勝          0\n",
       "先敗          0\n",
       "先勝率         2\n",
       "後勝          0\n",
       "後敗          0\n",
       "後勝率         2\n",
       "不戦勝         0\n",
       "不戦敗         0\n",
       "持           0\n",
       "千           0\n",
       "千日手/対局数    18\n",
       "先後勝率比      12\n",
       "dtype: int64"
      ]
     },
     "execution_count": 90,
     "metadata": {},
     "output_type": "execute_result"
    }
   ],
   "source": [
    "shogi_table.isna().sum()"
   ]
  },
  {
   "cell_type": "code",
   "execution_count": 82,
   "metadata": {},
   "outputs": [],
   "source": [
    "# convert string data (年齢、現役期間) into year\n",
    "# in this case, if month is greater than 6 months, increment year by one\n",
    "def year_conversion(year_data):\n",
    "    year = year_data[:2]\n",
    "    month = year_data[3:5]\n",
    "    \n",
    "    if not year.isnumeric():\n",
    "        year = year_data[:1]\n",
    "        month = year_data[2:4]\n",
    "    \n",
    "    year, month = int(year), int(month)\n",
    "    \n",
    "    if month > 6:\n",
    "        year += 1\n",
    "    \n",
    "    return year"
   ]
  },
  {
   "cell_type": "code",
   "execution_count": 91,
   "metadata": {},
   "outputs": [
    {
     "data": {
      "text/html": [
       "<div>\n",
       "<style scoped>\n",
       "    .dataframe tbody tr th:only-of-type {\n",
       "        vertical-align: middle;\n",
       "    }\n",
       "\n",
       "    .dataframe tbody tr th {\n",
       "        vertical-align: top;\n",
       "    }\n",
       "\n",
       "    .dataframe thead th {\n",
       "        text-align: right;\n",
       "    }\n",
       "</style>\n",
       "<table border=\"1\" class=\"dataframe\">\n",
       "  <thead>\n",
       "    <tr style=\"text-align: right;\">\n",
       "      <th></th>\n",
       "      <th>年齢</th>\n",
       "      <th>現役期間</th>\n",
       "      <th>対局</th>\n",
       "      <th>勝数</th>\n",
       "      <th>敗数</th>\n",
       "      <th>持局</th>\n",
       "      <th>勝率</th>\n",
       "      <th>先勝</th>\n",
       "      <th>先敗</th>\n",
       "      <th>先勝率</th>\n",
       "      <th>後勝</th>\n",
       "      <th>後敗</th>\n",
       "      <th>後勝率</th>\n",
       "      <th>不戦勝</th>\n",
       "      <th>不戦敗</th>\n",
       "      <th>持</th>\n",
       "      <th>千</th>\n",
       "      <th>千日手/対局数</th>\n",
       "      <th>先後勝率比</th>\n",
       "    </tr>\n",
       "  </thead>\n",
       "  <tbody>\n",
       "    <tr>\n",
       "      <th>0</th>\n",
       "      <td>82</td>\n",
       "      <td>32</td>\n",
       "      <td>12</td>\n",
       "      <td>6</td>\n",
       "      <td>6</td>\n",
       "      <td>0</td>\n",
       "      <td>0.5000</td>\n",
       "      <td>0</td>\n",
       "      <td>0</td>\n",
       "      <td>NaN</td>\n",
       "      <td>3</td>\n",
       "      <td>5</td>\n",
       "      <td>0.375</td>\n",
       "      <td>0</td>\n",
       "      <td>0</td>\n",
       "      <td>0</td>\n",
       "      <td>0</td>\n",
       "      <td>NaN</td>\n",
       "      <td>NaN</td>\n",
       "    </tr>\n",
       "    <tr>\n",
       "      <th>1</th>\n",
       "      <td>83</td>\n",
       "      <td>39</td>\n",
       "      <td>232</td>\n",
       "      <td>85</td>\n",
       "      <td>146</td>\n",
       "      <td>1</td>\n",
       "      <td>0.3680</td>\n",
       "      <td>15</td>\n",
       "      <td>17</td>\n",
       "      <td>0.469</td>\n",
       "      <td>9</td>\n",
       "      <td>20</td>\n",
       "      <td>0.310</td>\n",
       "      <td>3</td>\n",
       "      <td>15</td>\n",
       "      <td>2</td>\n",
       "      <td>1</td>\n",
       "      <td>0.004</td>\n",
       "      <td>1.510</td>\n",
       "    </tr>\n",
       "    <tr>\n",
       "      <th>2</th>\n",
       "      <td>67</td>\n",
       "      <td>50</td>\n",
       "      <td>828</td>\n",
       "      <td>414</td>\n",
       "      <td>413</td>\n",
       "      <td>1</td>\n",
       "      <td>0.5006</td>\n",
       "      <td>122</td>\n",
       "      <td>137</td>\n",
       "      <td>0.471</td>\n",
       "      <td>147</td>\n",
       "      <td>140</td>\n",
       "      <td>0.512</td>\n",
       "      <td>2</td>\n",
       "      <td>4</td>\n",
       "      <td>3</td>\n",
       "      <td>9</td>\n",
       "      <td>0.011</td>\n",
       "      <td>0.920</td>\n",
       "    </tr>\n",
       "    <tr>\n",
       "      <th>3</th>\n",
       "      <td>75</td>\n",
       "      <td>36</td>\n",
       "      <td>259</td>\n",
       "      <td>103</td>\n",
       "      <td>156</td>\n",
       "      <td>0</td>\n",
       "      <td>0.3977</td>\n",
       "      <td>1</td>\n",
       "      <td>10</td>\n",
       "      <td>0.091</td>\n",
       "      <td>0</td>\n",
       "      <td>6</td>\n",
       "      <td>0.000</td>\n",
       "      <td>1</td>\n",
       "      <td>0</td>\n",
       "      <td>0</td>\n",
       "      <td>0</td>\n",
       "      <td>NaN</td>\n",
       "      <td>NaN</td>\n",
       "    </tr>\n",
       "    <tr>\n",
       "      <th>4</th>\n",
       "      <td>79</td>\n",
       "      <td>26</td>\n",
       "      <td>49</td>\n",
       "      <td>16</td>\n",
       "      <td>33</td>\n",
       "      <td>0</td>\n",
       "      <td>0.3265</td>\n",
       "      <td>1</td>\n",
       "      <td>3</td>\n",
       "      <td>0.250</td>\n",
       "      <td>0</td>\n",
       "      <td>0</td>\n",
       "      <td>NaN</td>\n",
       "      <td>0</td>\n",
       "      <td>2</td>\n",
       "      <td>0</td>\n",
       "      <td>1</td>\n",
       "      <td>0.020</td>\n",
       "      <td>NaN</td>\n",
       "    </tr>\n",
       "  </tbody>\n",
       "</table>\n",
       "</div>"
      ],
      "text/plain": [
       "   年齢  現役期間   対局   勝数   敗数 持局      勝率   先勝   先敗    先勝率   後勝   後敗    後勝率 不戦勝  \\\n",
       "0  82    32   12    6    6  0  0.5000    0    0    NaN    3    5  0.375   0   \n",
       "1  83    39  232   85  146  1  0.3680   15   17  0.469    9   20  0.310   3   \n",
       "2  67    50  828  414  413  1  0.5006  122  137  0.471  147  140  0.512   2   \n",
       "3  75    36  259  103  156  0  0.3977    1   10  0.091    0    6  0.000   1   \n",
       "4  79    26   49   16   33  0  0.3265    1    3  0.250    0    0    NaN   0   \n",
       "\n",
       "  不戦敗  持  千 千日手/対局数  先後勝率比  \n",
       "0   0  0  0     NaN    NaN  \n",
       "1  15  2  1   0.004  1.510  \n",
       "2   4  3  9   0.011  0.920  \n",
       "3   0  0  0     NaN    NaN  \n",
       "4   2  0  1   0.020    NaN  "
      ]
     },
     "execution_count": 91,
     "metadata": {},
     "output_type": "execute_result"
    }
   ],
   "source": [
    "shogi_table['年齢'] = shogi_table['年齢'].apply(year_conversion)\n",
    "shogi_table['現役期間'] = shogi_table['現役期間'].apply(year_conversion)\n",
    "shogi_table.head()"
   ]
  },
  {
   "cell_type": "code",
   "execution_count": 102,
   "metadata": {},
   "outputs": [],
   "source": [
    "shogi_table['sen'] = shogi_table['千'].apply(lambda x: 1 if int(x) < 10 else 0)"
   ]
  },
  {
   "cell_type": "code",
   "execution_count": 103,
   "metadata": {},
   "outputs": [
    {
     "data": {
      "text/html": [
       "<div>\n",
       "<style scoped>\n",
       "    .dataframe tbody tr th:only-of-type {\n",
       "        vertical-align: middle;\n",
       "    }\n",
       "\n",
       "    .dataframe tbody tr th {\n",
       "        vertical-align: top;\n",
       "    }\n",
       "\n",
       "    .dataframe thead th {\n",
       "        text-align: right;\n",
       "    }\n",
       "</style>\n",
       "<table border=\"1\" class=\"dataframe\">\n",
       "  <thead>\n",
       "    <tr style=\"text-align: right;\">\n",
       "      <th></th>\n",
       "      <th>年齢</th>\n",
       "      <th>現役期間</th>\n",
       "      <th>対局</th>\n",
       "      <th>勝数</th>\n",
       "      <th>敗数</th>\n",
       "      <th>持局</th>\n",
       "      <th>勝率</th>\n",
       "      <th>先勝</th>\n",
       "      <th>先敗</th>\n",
       "      <th>先勝率</th>\n",
       "      <th>後勝</th>\n",
       "      <th>後敗</th>\n",
       "      <th>後勝率</th>\n",
       "      <th>不戦勝</th>\n",
       "      <th>不戦敗</th>\n",
       "      <th>持</th>\n",
       "      <th>千</th>\n",
       "      <th>千日手/対局数</th>\n",
       "      <th>先後勝率比</th>\n",
       "    </tr>\n",
       "    <tr>\n",
       "      <th>sen</th>\n",
       "      <th></th>\n",
       "      <th></th>\n",
       "      <th></th>\n",
       "      <th></th>\n",
       "      <th></th>\n",
       "      <th></th>\n",
       "      <th></th>\n",
       "      <th></th>\n",
       "      <th></th>\n",
       "      <th></th>\n",
       "      <th></th>\n",
       "      <th></th>\n",
       "      <th></th>\n",
       "      <th></th>\n",
       "      <th></th>\n",
       "      <th></th>\n",
       "      <th></th>\n",
       "      <th></th>\n",
       "      <th></th>\n",
       "    </tr>\n",
       "  </thead>\n",
       "  <tbody>\n",
       "    <tr>\n",
       "      <th>0</th>\n",
       "      <td>188</td>\n",
       "      <td>188</td>\n",
       "      <td>188</td>\n",
       "      <td>188</td>\n",
       "      <td>188</td>\n",
       "      <td>188</td>\n",
       "      <td>188</td>\n",
       "      <td>188</td>\n",
       "      <td>188</td>\n",
       "      <td>188</td>\n",
       "      <td>188</td>\n",
       "      <td>188</td>\n",
       "      <td>188</td>\n",
       "      <td>188</td>\n",
       "      <td>188</td>\n",
       "      <td>188</td>\n",
       "      <td>188</td>\n",
       "      <td>188</td>\n",
       "      <td>188</td>\n",
       "    </tr>\n",
       "    <tr>\n",
       "      <th>1</th>\n",
       "      <td>138</td>\n",
       "      <td>138</td>\n",
       "      <td>138</td>\n",
       "      <td>138</td>\n",
       "      <td>138</td>\n",
       "      <td>138</td>\n",
       "      <td>138</td>\n",
       "      <td>138</td>\n",
       "      <td>138</td>\n",
       "      <td>136</td>\n",
       "      <td>138</td>\n",
       "      <td>138</td>\n",
       "      <td>136</td>\n",
       "      <td>138</td>\n",
       "      <td>138</td>\n",
       "      <td>138</td>\n",
       "      <td>138</td>\n",
       "      <td>120</td>\n",
       "      <td>126</td>\n",
       "    </tr>\n",
       "  </tbody>\n",
       "</table>\n",
       "</div>"
      ],
      "text/plain": [
       "      年齢  現役期間   対局   勝数   敗数   持局   勝率   先勝   先敗  先勝率   後勝   後敗  後勝率  不戦勝  \\\n",
       "sen                                                                          \n",
       "0    188   188  188  188  188  188  188  188  188  188  188  188  188  188   \n",
       "1    138   138  138  138  138  138  138  138  138  136  138  138  136  138   \n",
       "\n",
       "     不戦敗    持    千  千日手/対局数  先後勝率比  \n",
       "sen                                 \n",
       "0    188  188  188      188    188  \n",
       "1    138  138  138      120    126  "
      ]
     },
     "execution_count": 103,
     "metadata": {},
     "output_type": "execute_result"
    }
   ],
   "source": [
    "shogi_table.groupby('sen').count()"
   ]
  },
  {
   "cell_type": "code",
   "execution_count": 104,
   "metadata": {},
   "outputs": [
    {
     "data": {
      "text/plain": [
       "年齢          0\n",
       "現役期間        0\n",
       "対局          0\n",
       "勝数          0\n",
       "敗数          0\n",
       "持局          0\n",
       "勝率          0\n",
       "先勝          0\n",
       "先敗          0\n",
       "先勝率         2\n",
       "後勝          0\n",
       "後敗          0\n",
       "後勝率         2\n",
       "不戦勝         0\n",
       "不戦敗         0\n",
       "持           0\n",
       "千           0\n",
       "千日手/対局数    18\n",
       "先後勝率比      12\n",
       "sen         0\n",
       "dtype: int64"
      ]
     },
     "execution_count": 104,
     "metadata": {},
     "output_type": "execute_result"
    }
   ],
   "source": [
    "# EDA\n",
    "shogi_table.isnull().sum()"
   ]
  },
  {
   "cell_type": "code",
   "execution_count": 105,
   "metadata": {},
   "outputs": [
    {
     "data": {
      "text/plain": [
       "年齢          0\n",
       "現役期間        0\n",
       "対局          0\n",
       "勝数          0\n",
       "敗数          0\n",
       "持局          0\n",
       "勝率          0\n",
       "先勝          0\n",
       "先敗          0\n",
       "先勝率         0\n",
       "後勝          0\n",
       "後敗          0\n",
       "後勝率         0\n",
       "不戦勝         0\n",
       "不戦敗         0\n",
       "持           0\n",
       "千           0\n",
       "千日手/対局数    18\n",
       "先後勝率比      12\n",
       "sen         0\n",
       "dtype: int64"
      ]
     },
     "execution_count": 105,
     "metadata": {},
     "output_type": "execute_result"
    }
   ],
   "source": [
    "# every null in 先勝率 and 後勝率 is caused by 0 total for not recording both (先勝, 先敗) and (後勝, 後敗)\n",
    "# in this case, we can treat this as 'not accomplishing either 先勝 or 先敗 ((後勝, 後敗))'. \n",
    "# thus, we will fillna with 0 for both columns\n",
    "shogi_table['先勝率'] = shogi_table['先勝率'].fillna(0)\n",
    "shogi_table['後勝率'] = shogi_table['後勝率'].fillna(0)"
   ]
  },
  {
   "cell_type": "code",
   "execution_count": 106,
   "metadata": {},
   "outputs": [],
   "source": [
    "# null in 先後勝率比 has same reasoning as previously stated\n",
    "shogi_table['先後勝率比'] = shogi_table['先後勝率比'].fillna(0)"
   ]
  },
  {
   "cell_type": "code",
   "execution_count": 110,
   "metadata": {},
   "outputs": [
    {
     "data": {
      "text/plain": [
       "年齢         0\n",
       "現役期間       0\n",
       "対局         0\n",
       "勝数         0\n",
       "敗数         0\n",
       "持局         0\n",
       "勝率         0\n",
       "先勝         0\n",
       "先敗         0\n",
       "先勝率        0\n",
       "後勝         0\n",
       "後敗         0\n",
       "後勝率        0\n",
       "不戦勝        0\n",
       "不戦敗        0\n",
       "持          0\n",
       "千          0\n",
       "千日手/対局数    0\n",
       "先後勝率比      0\n",
       "sen        0\n",
       "dtype: int64"
      ]
     },
     "execution_count": 110,
     "metadata": {},
     "output_type": "execute_result"
    }
   ],
   "source": [
    "shogi_table.isnull().sum()"
   ]
  },
  {
   "cell_type": "code",
   "execution_count": 109,
   "metadata": {},
   "outputs": [],
   "source": [
    "# now, for 千日手/対局数, null only appears if 千 is 0 at particular records, so replace with 0\n",
    "shogi_table['千日手/対局数'] = shogi_table['千日手/対局数'].fillna(0)"
   ]
  },
  {
   "cell_type": "code",
   "execution_count": 111,
   "metadata": {},
   "outputs": [
    {
     "data": {
      "text/html": [
       "<div>\n",
       "<style scoped>\n",
       "    .dataframe tbody tr th:only-of-type {\n",
       "        vertical-align: middle;\n",
       "    }\n",
       "\n",
       "    .dataframe tbody tr th {\n",
       "        vertical-align: top;\n",
       "    }\n",
       "\n",
       "    .dataframe thead th {\n",
       "        text-align: right;\n",
       "    }\n",
       "</style>\n",
       "<table border=\"1\" class=\"dataframe\">\n",
       "  <thead>\n",
       "    <tr style=\"text-align: right;\">\n",
       "      <th></th>\n",
       "      <th>年齢</th>\n",
       "      <th>現役期間</th>\n",
       "      <th>対局</th>\n",
       "      <th>勝数</th>\n",
       "      <th>敗数</th>\n",
       "      <th>持局</th>\n",
       "      <th>勝率</th>\n",
       "      <th>先勝</th>\n",
       "      <th>先敗</th>\n",
       "      <th>先勝率</th>\n",
       "      <th>後勝</th>\n",
       "      <th>後敗</th>\n",
       "      <th>後勝率</th>\n",
       "      <th>不戦勝</th>\n",
       "      <th>不戦敗</th>\n",
       "      <th>持</th>\n",
       "      <th>千</th>\n",
       "      <th>千日手/対局数</th>\n",
       "      <th>先後勝率比</th>\n",
       "      <th>sen</th>\n",
       "    </tr>\n",
       "  </thead>\n",
       "  <tbody>\n",
       "    <tr>\n",
       "      <th>0</th>\n",
       "      <td>82</td>\n",
       "      <td>32</td>\n",
       "      <td>12</td>\n",
       "      <td>6</td>\n",
       "      <td>6</td>\n",
       "      <td>0</td>\n",
       "      <td>0.5000</td>\n",
       "      <td>0</td>\n",
       "      <td>0</td>\n",
       "      <td>0</td>\n",
       "      <td>3</td>\n",
       "      <td>5</td>\n",
       "      <td>0.375</td>\n",
       "      <td>0</td>\n",
       "      <td>0</td>\n",
       "      <td>0</td>\n",
       "      <td>0</td>\n",
       "      <td>0</td>\n",
       "      <td>0</td>\n",
       "      <td>1</td>\n",
       "    </tr>\n",
       "    <tr>\n",
       "      <th>1</th>\n",
       "      <td>83</td>\n",
       "      <td>39</td>\n",
       "      <td>232</td>\n",
       "      <td>85</td>\n",
       "      <td>146</td>\n",
       "      <td>1</td>\n",
       "      <td>0.3680</td>\n",
       "      <td>15</td>\n",
       "      <td>17</td>\n",
       "      <td>0.469</td>\n",
       "      <td>9</td>\n",
       "      <td>20</td>\n",
       "      <td>0.310</td>\n",
       "      <td>3</td>\n",
       "      <td>15</td>\n",
       "      <td>2</td>\n",
       "      <td>1</td>\n",
       "      <td>0.004</td>\n",
       "      <td>1.510</td>\n",
       "      <td>1</td>\n",
       "    </tr>\n",
       "    <tr>\n",
       "      <th>2</th>\n",
       "      <td>67</td>\n",
       "      <td>50</td>\n",
       "      <td>828</td>\n",
       "      <td>414</td>\n",
       "      <td>413</td>\n",
       "      <td>1</td>\n",
       "      <td>0.5006</td>\n",
       "      <td>122</td>\n",
       "      <td>137</td>\n",
       "      <td>0.471</td>\n",
       "      <td>147</td>\n",
       "      <td>140</td>\n",
       "      <td>0.512</td>\n",
       "      <td>2</td>\n",
       "      <td>4</td>\n",
       "      <td>3</td>\n",
       "      <td>9</td>\n",
       "      <td>0.011</td>\n",
       "      <td>0.920</td>\n",
       "      <td>1</td>\n",
       "    </tr>\n",
       "    <tr>\n",
       "      <th>3</th>\n",
       "      <td>75</td>\n",
       "      <td>36</td>\n",
       "      <td>259</td>\n",
       "      <td>103</td>\n",
       "      <td>156</td>\n",
       "      <td>0</td>\n",
       "      <td>0.3977</td>\n",
       "      <td>1</td>\n",
       "      <td>10</td>\n",
       "      <td>0.091</td>\n",
       "      <td>0</td>\n",
       "      <td>6</td>\n",
       "      <td>0.000</td>\n",
       "      <td>1</td>\n",
       "      <td>0</td>\n",
       "      <td>0</td>\n",
       "      <td>0</td>\n",
       "      <td>0</td>\n",
       "      <td>0</td>\n",
       "      <td>1</td>\n",
       "    </tr>\n",
       "    <tr>\n",
       "      <th>4</th>\n",
       "      <td>79</td>\n",
       "      <td>26</td>\n",
       "      <td>49</td>\n",
       "      <td>16</td>\n",
       "      <td>33</td>\n",
       "      <td>0</td>\n",
       "      <td>0.3265</td>\n",
       "      <td>1</td>\n",
       "      <td>3</td>\n",
       "      <td>0.250</td>\n",
       "      <td>0</td>\n",
       "      <td>0</td>\n",
       "      <td>0</td>\n",
       "      <td>0</td>\n",
       "      <td>2</td>\n",
       "      <td>0</td>\n",
       "      <td>1</td>\n",
       "      <td>0.020</td>\n",
       "      <td>0</td>\n",
       "      <td>1</td>\n",
       "    </tr>\n",
       "  </tbody>\n",
       "</table>\n",
       "</div>"
      ],
      "text/plain": [
       "   年齢  現役期間   対局   勝数   敗数 持局      勝率   先勝   先敗    先勝率   後勝   後敗    後勝率 不戦勝  \\\n",
       "0  82    32   12    6    6  0  0.5000    0    0      0    3    5  0.375   0   \n",
       "1  83    39  232   85  146  1  0.3680   15   17  0.469    9   20  0.310   3   \n",
       "2  67    50  828  414  413  1  0.5006  122  137  0.471  147  140  0.512   2   \n",
       "3  75    36  259  103  156  0  0.3977    1   10  0.091    0    6  0.000   1   \n",
       "4  79    26   49   16   33  0  0.3265    1    3  0.250    0    0      0   0   \n",
       "\n",
       "  不戦敗  持  千 千日手/対局数  先後勝率比  sen  \n",
       "0   0  0  0       0      0    1  \n",
       "1  15  2  1   0.004  1.510    1  \n",
       "2   4  3  9   0.011  0.920    1  \n",
       "3   0  0  0       0      0    1  \n",
       "4   2  0  1   0.020      0    1  "
      ]
     },
     "execution_count": 111,
     "metadata": {},
     "output_type": "execute_result"
    }
   ],
   "source": [
    "shogi_table.head()"
   ]
  },
  {
   "cell_type": "code",
   "execution_count": 210,
   "metadata": {},
   "outputs": [
    {
     "data": {
      "text/html": [
       "<div>\n",
       "<style scoped>\n",
       "    .dataframe tbody tr th:only-of-type {\n",
       "        vertical-align: middle;\n",
       "    }\n",
       "\n",
       "    .dataframe tbody tr th {\n",
       "        vertical-align: top;\n",
       "    }\n",
       "\n",
       "    .dataframe thead th {\n",
       "        text-align: right;\n",
       "    }\n",
       "</style>\n",
       "<table border=\"1\" class=\"dataframe\">\n",
       "  <thead>\n",
       "    <tr style=\"text-align: right;\">\n",
       "      <th></th>\n",
       "      <th>年齢</th>\n",
       "      <th>現役期間</th>\n",
       "      <th>対局</th>\n",
       "      <th>勝率</th>\n",
       "      <th>先勝率</th>\n",
       "      <th>後勝率</th>\n",
       "      <th>不戦勝</th>\n",
       "      <th>不戦敗</th>\n",
       "      <th>持</th>\n",
       "      <th>千</th>\n",
       "      <th>千日手/対局数</th>\n",
       "      <th>先後勝率比</th>\n",
       "      <th>sen</th>\n",
       "    </tr>\n",
       "  </thead>\n",
       "  <tbody>\n",
       "    <tr>\n",
       "      <th>0</th>\n",
       "      <td>82</td>\n",
       "      <td>32</td>\n",
       "      <td>12</td>\n",
       "      <td>0.5000</td>\n",
       "      <td>0.000</td>\n",
       "      <td>0.375</td>\n",
       "      <td>0</td>\n",
       "      <td>0</td>\n",
       "      <td>0</td>\n",
       "      <td>0</td>\n",
       "      <td>0.000</td>\n",
       "      <td>0.00</td>\n",
       "      <td>1</td>\n",
       "    </tr>\n",
       "    <tr>\n",
       "      <th>1</th>\n",
       "      <td>83</td>\n",
       "      <td>39</td>\n",
       "      <td>232</td>\n",
       "      <td>0.3680</td>\n",
       "      <td>0.469</td>\n",
       "      <td>0.310</td>\n",
       "      <td>3</td>\n",
       "      <td>15</td>\n",
       "      <td>2</td>\n",
       "      <td>1</td>\n",
       "      <td>0.004</td>\n",
       "      <td>1.51</td>\n",
       "      <td>1</td>\n",
       "    </tr>\n",
       "    <tr>\n",
       "      <th>2</th>\n",
       "      <td>67</td>\n",
       "      <td>50</td>\n",
       "      <td>828</td>\n",
       "      <td>0.5006</td>\n",
       "      <td>0.471</td>\n",
       "      <td>0.512</td>\n",
       "      <td>2</td>\n",
       "      <td>4</td>\n",
       "      <td>3</td>\n",
       "      <td>9</td>\n",
       "      <td>0.011</td>\n",
       "      <td>0.92</td>\n",
       "      <td>1</td>\n",
       "    </tr>\n",
       "    <tr>\n",
       "      <th>3</th>\n",
       "      <td>75</td>\n",
       "      <td>36</td>\n",
       "      <td>259</td>\n",
       "      <td>0.3977</td>\n",
       "      <td>0.091</td>\n",
       "      <td>0.000</td>\n",
       "      <td>1</td>\n",
       "      <td>0</td>\n",
       "      <td>0</td>\n",
       "      <td>0</td>\n",
       "      <td>0.000</td>\n",
       "      <td>0.00</td>\n",
       "      <td>1</td>\n",
       "    </tr>\n",
       "    <tr>\n",
       "      <th>4</th>\n",
       "      <td>79</td>\n",
       "      <td>26</td>\n",
       "      <td>49</td>\n",
       "      <td>0.3265</td>\n",
       "      <td>0.250</td>\n",
       "      <td>0.000</td>\n",
       "      <td>0</td>\n",
       "      <td>2</td>\n",
       "      <td>0</td>\n",
       "      <td>1</td>\n",
       "      <td>0.020</td>\n",
       "      <td>0.00</td>\n",
       "      <td>1</td>\n",
       "    </tr>\n",
       "  </tbody>\n",
       "</table>\n",
       "</div>"
      ],
      "text/plain": [
       "   年齢  現役期間   対局      勝率    先勝率    後勝率  不戦勝  不戦敗  持  千  千日手/対局数  先後勝率比  sen\n",
       "0  82    32   12  0.5000  0.000  0.375    0    0  0  0    0.000   0.00    1\n",
       "1  83    39  232  0.3680  0.469  0.310    3   15  2  1    0.004   1.51    1\n",
       "2  67    50  828  0.5006  0.471  0.512    2    4  3  9    0.011   0.92    1\n",
       "3  75    36  259  0.3977  0.091  0.000    1    0  0  0    0.000   0.00    1\n",
       "4  79    26   49  0.3265  0.250  0.000    0    2  0  1    0.020   0.00    1"
      ]
     },
     "execution_count": 210,
     "metadata": {},
     "output_type": "execute_result"
    }
   ],
   "source": [
    "conv_cols = shogi_table.columns[2:-1]\n",
    "\n",
    "for col in conv_cols:\n",
    "    shogi_table[col] = pd.to_numeric(shogi_table[col])\n",
    "\n",
    "shogi_table.head()"
   ]
  },
  {
   "cell_type": "code",
   "execution_count": 211,
   "metadata": {},
   "outputs": [
    {
     "data": {
      "text/plain": [
       "<matplotlib.collections.PathCollection at 0x2418a94ef08>"
      ]
     },
     "execution_count": 211,
     "metadata": {},
     "output_type": "execute_result"
    },
    {
     "data": {
      "image/png": "[encoded data removed]",
      "text/plain": [
       "<Figure size 432x288 with 1 Axes>"
      ]
     },
     "metadata": {
      "needs_background": "light"
     },
     "output_type": "display_data"
    }
   ],
   "source": [
    "plt.scatter(shogi_table['対局'], shogi_table['現役期間'], c=shogi_table['sen'])"
   ]
  },
  {
   "cell_type": "code",
   "execution_count": 128,
   "metadata": {},
   "outputs": [],
   "source": [
    "shogi_table.drop(['勝数', '敗数', '持局', '先勝', '先敗', '後勝', '後敗'], axis=1, inplace=True)"
   ]
  },
  {
   "cell_type": "code",
   "execution_count": 129,
   "metadata": {},
   "outputs": [
    {
     "data": {
      "text/html": [
       "<div>\n",
       "<style scoped>\n",
       "    .dataframe tbody tr th:only-of-type {\n",
       "        vertical-align: middle;\n",
       "    }\n",
       "\n",
       "    .dataframe tbody tr th {\n",
       "        vertical-align: top;\n",
       "    }\n",
       "\n",
       "    .dataframe thead th {\n",
       "        text-align: right;\n",
       "    }\n",
       "</style>\n",
       "<table border=\"1\" class=\"dataframe\">\n",
       "  <thead>\n",
       "    <tr style=\"text-align: right;\">\n",
       "      <th></th>\n",
       "      <th>年齢</th>\n",
       "      <th>現役期間</th>\n",
       "      <th>対局</th>\n",
       "      <th>勝率</th>\n",
       "      <th>先勝率</th>\n",
       "      <th>後勝率</th>\n",
       "      <th>不戦勝</th>\n",
       "      <th>不戦敗</th>\n",
       "      <th>持</th>\n",
       "      <th>千</th>\n",
       "      <th>千日手/対局数</th>\n",
       "      <th>先後勝率比</th>\n",
       "      <th>sen</th>\n",
       "    </tr>\n",
       "  </thead>\n",
       "  <tbody>\n",
       "    <tr>\n",
       "      <th>0</th>\n",
       "      <td>82</td>\n",
       "      <td>32</td>\n",
       "      <td>12</td>\n",
       "      <td>0.5000</td>\n",
       "      <td>0</td>\n",
       "      <td>0.375</td>\n",
       "      <td>0</td>\n",
       "      <td>0</td>\n",
       "      <td>0</td>\n",
       "      <td>0</td>\n",
       "      <td>0</td>\n",
       "      <td>0</td>\n",
       "      <td>1</td>\n",
       "    </tr>\n",
       "    <tr>\n",
       "      <th>1</th>\n",
       "      <td>83</td>\n",
       "      <td>39</td>\n",
       "      <td>232</td>\n",
       "      <td>0.3680</td>\n",
       "      <td>0.469</td>\n",
       "      <td>0.310</td>\n",
       "      <td>3</td>\n",
       "      <td>15</td>\n",
       "      <td>2</td>\n",
       "      <td>1</td>\n",
       "      <td>0.004</td>\n",
       "      <td>1.510</td>\n",
       "      <td>1</td>\n",
       "    </tr>\n",
       "    <tr>\n",
       "      <th>2</th>\n",
       "      <td>67</td>\n",
       "      <td>50</td>\n",
       "      <td>828</td>\n",
       "      <td>0.5006</td>\n",
       "      <td>0.471</td>\n",
       "      <td>0.512</td>\n",
       "      <td>2</td>\n",
       "      <td>4</td>\n",
       "      <td>3</td>\n",
       "      <td>9</td>\n",
       "      <td>0.011</td>\n",
       "      <td>0.920</td>\n",
       "      <td>1</td>\n",
       "    </tr>\n",
       "    <tr>\n",
       "      <th>3</th>\n",
       "      <td>75</td>\n",
       "      <td>36</td>\n",
       "      <td>259</td>\n",
       "      <td>0.3977</td>\n",
       "      <td>0.091</td>\n",
       "      <td>0.000</td>\n",
       "      <td>1</td>\n",
       "      <td>0</td>\n",
       "      <td>0</td>\n",
       "      <td>0</td>\n",
       "      <td>0</td>\n",
       "      <td>0</td>\n",
       "      <td>1</td>\n",
       "    </tr>\n",
       "    <tr>\n",
       "      <th>4</th>\n",
       "      <td>79</td>\n",
       "      <td>26</td>\n",
       "      <td>49</td>\n",
       "      <td>0.3265</td>\n",
       "      <td>0.250</td>\n",
       "      <td>0</td>\n",
       "      <td>0</td>\n",
       "      <td>2</td>\n",
       "      <td>0</td>\n",
       "      <td>1</td>\n",
       "      <td>0.020</td>\n",
       "      <td>0</td>\n",
       "      <td>1</td>\n",
       "    </tr>\n",
       "  </tbody>\n",
       "</table>\n",
       "</div>"
      ],
      "text/plain": [
       "   年齢  現役期間   対局      勝率    先勝率    後勝率 不戦勝 不戦敗  持  千 千日手/対局数  先後勝率比  sen\n",
       "0  82    32   12  0.5000      0  0.375   0   0  0  0       0      0    1\n",
       "1  83    39  232  0.3680  0.469  0.310   3  15  2  1   0.004  1.510    1\n",
       "2  67    50  828  0.5006  0.471  0.512   2   4  3  9   0.011  0.920    1\n",
       "3  75    36  259  0.3977  0.091  0.000   1   0  0  0       0      0    1\n",
       "4  79    26   49  0.3265  0.250      0   0   2  0  1   0.020      0    1"
      ]
     },
     "execution_count": 129,
     "metadata": {},
     "output_type": "execute_result"
    }
   ],
   "source": [
    "shogi_table.head()"
   ]
  },
  {
   "cell_type": "code",
   "execution_count": 213,
   "metadata": {},
   "outputs": [],
   "source": [
    "from sklearn.preprocessing import MinMaxScaler\n",
    "from sklearn.model_selection import train_test_split\n",
    "\n",
    "X_train, X_test, y_train, y_test = train_test_split(shogi_table.iloc[:, :12].values, \n",
    "                                                    shogi_table.iloc[:, 12].values, \n",
    "                                                    test_size=0.3, \n",
    "                                                   random_state=50)"
   ]
  },
  {
   "cell_type": "code",
   "execution_count": 226,
   "metadata": {},
   "outputs": [
    {
     "data": {
      "text/plain": [
       "LogisticRegression(C=1.0, class_weight=None, dual=False, fit_intercept=True,\n",
       "                   intercept_scaling=1, l1_ratio=None, max_iter=1000,\n",
       "                   multi_class='auto', n_jobs=None, penalty='l2',\n",
       "                   random_state=None, solver='lbfgs', tol=0.0001, verbose=0,\n",
       "                   warm_start=False)"
      ]
     },
     "execution_count": 226,
     "metadata": {},
     "output_type": "execute_result"
    }
   ],
   "source": [
    "from sklearn.linear_model import LogisticRegression\n",
    "\n",
    "lr_model = LogisticRegression(max_iter=1000)\n",
    "lr_model.fit(X_train, y_train)"
   ]
  },
  {
   "cell_type": "code",
   "execution_count": 166,
   "metadata": {},
   "outputs": [],
   "source": [
    "prediction = lr_model.predict(X_test)"
   ]
  },
  {
   "cell_type": "code",
   "execution_count": 227,
   "metadata": {},
   "outputs": [
    {
     "name": "stdout",
     "output_type": "stream",
     "text": [
      "1.0\n"
     ]
    }
   ],
   "source": [
    "print(lr_model.score(X_train, y_train))"
   ]
  },
  {
   "cell_type": "code",
   "execution_count": 228,
   "metadata": {},
   "outputs": [
    {
     "data": {
      "text/plain": [
       "0.9911067193675889"
      ]
     },
     "execution_count": 228,
     "metadata": {},
     "output_type": "execute_result"
    }
   ],
   "source": [
    "from sklearn.model_selection import cross_val_score\n",
    "\n",
    "scores = cross_val_score(lr_model, X_train, y_train, cv=10)\n",
    "scores.mean()"
   ]
  },
  {
   "cell_type": "code",
   "execution_count": 229,
   "metadata": {},
   "outputs": [
    {
     "name": "stdout",
     "output_type": "stream",
     "text": [
      "1.0\n"
     ]
    }
   ],
   "source": [
    "print(lr_model.score(X_test, y_test))"
   ]
  },
  {
   "cell_type": "code",
   "execution_count": 218,
   "metadata": {},
   "outputs": [
    {
     "data": {
      "text/plain": [
       "SVC(C=5, break_ties=False, cache_size=200, class_weight=None, coef0=0.0,\n",
       "    decision_function_shape='ovr', degree=3, gamma='scale', kernel='linear',\n",
       "    max_iter=-1, probability=True, random_state=None, shrinking=True, tol=0.001,\n",
       "    verbose=False)"
      ]
     },
     "execution_count": 218,
     "metadata": {},
     "output_type": "execute_result"
    }
   ],
   "source": [
    "# use SVC as ensemble model\n",
    "from sklearn.svm import SVC\n",
    "\n",
    "svc_clf = SVC(kernel='linear', C=5, probability=True)\n",
    "\n",
    "svc_clf.fit(X_train, y_train)"
   ]
  },
  {
   "cell_type": "code",
   "execution_count": 219,
   "metadata": {},
   "outputs": [
    {
     "name": "stdout",
     "output_type": "stream",
     "text": [
      "1.0\n"
     ]
    }
   ],
   "source": [
    "print(svc_clf.score(X_train, y_train))"
   ]
  },
  {
   "cell_type": "code",
   "execution_count": 220,
   "metadata": {},
   "outputs": [
    {
     "name": "stdout",
     "output_type": "stream",
     "text": [
      "1.0\n"
     ]
    }
   ],
   "source": [
    "print(svc_clf.score(X_test, y_test))"
   ]
  },
  {
   "cell_type": "code",
   "execution_count": 221,
   "metadata": {},
   "outputs": [
    {
     "data": {
      "text/plain": [
       "(98,)"
      ]
     },
     "execution_count": 221,
     "metadata": {},
     "output_type": "execute_result"
    }
   ],
   "source": [
    "y_test.shape"
   ]
  },
  {
   "cell_type": "code",
   "execution_count": 222,
   "metadata": {},
   "outputs": [
    {
     "data": {
      "text/plain": [
       "numpy.ndarray"
      ]
     },
     "execution_count": 222,
     "metadata": {},
     "output_type": "execute_result"
    }
   ],
   "source": [
    "type(X_test)"
   ]
  },
  {
   "cell_type": "code",
   "execution_count": 223,
   "metadata": {},
   "outputs": [
    {
     "name": "stdout",
     "output_type": "stream",
     "text": [
      "Inputs | prediction output | test output\n",
      "[6.500e+01 8.000e+00 2.790e+02 4.659e-01 4.860e-01 4.530e-01 0.000e+00\n",
      " 2.000e+00 1.000e+00 1.000e+00 4.000e-03 1.071e+00] | 1 | 1\n",
      "[5.700e+01 4.000e+01 1.528e+03 5.357e-01 5.790e-01 4.860e-01 6.000e+00\n",
      " 0.000e+00 8.000e+00 2.400e+01 1.600e-02 1.193e+00] | 0 | 0\n",
      "[5.700e+01 4.000e+01 1.476e+03 5.332e-01 5.420e-01 5.220e-01 4.000e+00\n",
      " 0.000e+00 2.000e+00 3.500e+01 2.400e-02 1.039e+00] | 0 | 0\n",
      "[5.800e+01 4.300e+01 2.202e+03 6.062e-01 6.490e-01 5.610e-01 3.000e+00\n",
      " 0.000e+00 8.000e+00 2.700e+01 1.200e-02 1.157e+00] | 0 | 0\n",
      "[3.100e+01 1.100e+01 3.940e+02 6.168e-01 6.620e-01 5.710e-01 0.000e+00\n",
      " 0.000e+00 0.000e+00 1.300e+01 3.300e-02 1.158e+00] | 0 | 0\n",
      "[7.300e+01 4.500e+01 1.411e+03 4.819e-01 4.960e-01 4.610e-01 5.000e+00\n",
      " 3.000e+00 2.000e+00 8.000e+00 6.000e-03 1.077e+00] | 1 | 1\n",
      "[5.700e+01 2.900e+01 9.200e+02 5.185e-01 5.850e-01 4.510e-01 3.000e+00\n",
      " 0.000e+00 0.000e+00 2.400e+01 2.600e-02 1.299e+00] | 0 | 0\n",
      "[5.100e+01 2.500e+01 7.070e+02 4.738e-01 4.910e-01 4.490e-01 5.000e+00\n",
      " 0.000e+00 0.000e+00 1.000e+01 1.400e-02 1.094e+00] | 0 | 0\n",
      "[2.800e+01 7.000e+00 2.650e+02 6.453e-01 6.970e-01 5.940e-01 0.000e+00\n",
      " 0.000e+00 0.000e+00 9.000e+00 3.400e-02 1.173e+00] | 1 | 1\n",
      "[6.600e+01 4.000e+01 1.080e+03 4.222e-01 4.320e-01 4.110e-01 1.000e+00\n",
      " 1.000e+00 7.000e+00 1.400e+01 1.300e-02 1.051e+00] | 0 | 0\n"
     ]
    }
   ],
   "source": [
    "from shogi_tester import random_test_data\n",
    "\n",
    "linreg_res = lr_model.predict_proba(X_test)\n",
    "svc_res = svc_clf.predict_proba(X_test)\n",
    "predictions = (linreg_res + svc_res) / 2\n",
    "prediction = predictions.argmax(axis=1)\n",
    "\n",
    "print('Inputs | prediction output | test output')\n",
    "\n",
    "for _ in range(10):\n",
    "    random_data = random_test_data(X_test, y_test)\n",
    "    \n",
    "    pred_input = random_data[1]\n",
    "    pred_out = prediction[random_data[0]]\n",
    "    test_out = random_data[2]\n",
    "    \n",
    "    print(f'{pred_input} | {pred_out} | {test_out}')"
   ]
  },
  {
   "cell_type": "code",
   "execution_count": 224,
   "metadata": {},
   "outputs": [
    {
     "data": {
      "text/markdown": [
       "#### 棋士のデータ：[71.     26.     65.      0.3385  0.5     0.25    1.      1.      0.\n",
       "  0.      0.      2.    ]"
      ],
      "text/plain": [
       "<IPython.core.display.Markdown object>"
      ]
     },
     "metadata": {},
     "output_type": "display_data"
    },
    {
     "data": {
      "text/markdown": [
       "## 千日手の回数：10回未満"
      ],
      "text/plain": [
       "<IPython.core.display.Markdown object>"
      ]
     },
     "metadata": {},
     "output_type": "display_data"
    },
    {
     "data": {
      "text/markdown": [
       "#### 棋士のデータ：[7.200e+01 2.300e+01 4.880e+02 3.197e-01 3.380e-01 2.980e-01 2.000e+00\n",
       " 1.000e+00 0.000e+00 7.000e+00 1.400e-02 1.131e+00]"
      ],
      "text/plain": [
       "<IPython.core.display.Markdown object>"
      ]
     },
     "metadata": {},
     "output_type": "display_data"
    },
    {
     "data": {
      "text/markdown": [
       "## 千日手の回数：10回未満"
      ],
      "text/plain": [
       "<IPython.core.display.Markdown object>"
      ]
     },
     "metadata": {},
     "output_type": "display_data"
    },
    {
     "data": {
      "text/markdown": [
       "#### 棋士のデータ：[5.000e+01 2.900e+01 1.165e+03 5.768e-01 6.060e-01 5.450e-01 1.000e+00\n",
       " 0.000e+00 0.000e+00 3.800e+01 3.300e-02 1.112e+00]"
      ],
      "text/plain": [
       "<IPython.core.display.Markdown object>"
      ]
     },
     "metadata": {},
     "output_type": "display_data"
    },
    {
     "data": {
      "text/markdown": [
       "## 千日手の回数：10回以上"
      ],
      "text/plain": [
       "<IPython.core.display.Markdown object>"
      ]
     },
     "metadata": {},
     "output_type": "display_data"
    },
    {
     "data": {
      "text/markdown": [
       "#### 棋士のデータ：[7.500e+01 3.600e+01 2.590e+02 3.977e-01 9.100e-02 0.000e+00 1.000e+00\n",
       " 0.000e+00 0.000e+00 0.000e+00 0.000e+00 0.000e+00]"
      ],
      "text/plain": [
       "<IPython.core.display.Markdown object>"
      ]
     },
     "metadata": {},
     "output_type": "display_data"
    },
    {
     "data": {
      "text/markdown": [
       "## 千日手の回数：10回未満"
      ],
      "text/plain": [
       "<IPython.core.display.Markdown object>"
      ]
     },
     "metadata": {},
     "output_type": "display_data"
    },
    {
     "data": {
      "text/markdown": [
       "#### 棋士のデータ：[5.600e+01 3.700e+01 1.115e+03 4.717e-01 5.130e-01 4.300e-01 2.000e+00\n",
       " 4.000e+00 0.000e+00 2.100e+01 1.900e-02 1.193e+00]"
      ],
      "text/plain": [
       "<IPython.core.display.Markdown object>"
      ]
     },
     "metadata": {},
     "output_type": "display_data"
    },
    {
     "data": {
      "text/markdown": [
       "## 千日手の回数：10回以上"
      ],
      "text/plain": [
       "<IPython.core.display.Markdown object>"
      ]
     },
     "metadata": {},
     "output_type": "display_data"
    },
    {
     "data": {
      "text/markdown": [
       "#### 棋士のデータ：[7.000e+01 2.600e+01 2.730e+02 4.982e-01 5.500e-01 4.870e-01 1.000e+00\n",
       " 7.000e+00 5.000e+00 1.800e+01 6.600e-02 1.130e+00]"
      ],
      "text/plain": [
       "<IPython.core.display.Markdown object>"
      ]
     },
     "metadata": {},
     "output_type": "display_data"
    },
    {
     "data": {
      "text/markdown": [
       "## 千日手の回数：10回以上"
      ],
      "text/plain": [
       "<IPython.core.display.Markdown object>"
      ]
     },
     "metadata": {},
     "output_type": "display_data"
    },
    {
     "data": {
      "text/markdown": [
       "#### 棋士のデータ：[5.700e+01 4.000e+01 1.528e+03 5.357e-01 5.790e-01 4.860e-01 6.000e+00\n",
       " 0.000e+00 8.000e+00 2.400e+01 1.600e-02 1.193e+00]"
      ],
      "text/plain": [
       "<IPython.core.display.Markdown object>"
      ]
     },
     "metadata": {},
     "output_type": "display_data"
    },
    {
     "data": {
      "text/markdown": [
       "## 千日手の回数：10回以上"
      ],
      "text/plain": [
       "<IPython.core.display.Markdown object>"
      ]
     },
     "metadata": {},
     "output_type": "display_data"
    },
    {
     "data": {
      "text/markdown": [
       "#### 棋士のデータ：[7.000e+01 4.500e+01 1.274e+03 4.286e-01 4.500e-01 4.040e-01 4.000e+00\n",
       " 1.000e+00 1.000e+00 9.000e+00 7.000e-03 1.115e+00]"
      ],
      "text/plain": [
       "<IPython.core.display.Markdown object>"
      ]
     },
     "metadata": {},
     "output_type": "display_data"
    },
    {
     "data": {
      "text/markdown": [
       "## 千日手の回数：10回未満"
      ],
      "text/plain": [
       "<IPython.core.display.Markdown object>"
      ]
     },
     "metadata": {},
     "output_type": "display_data"
    },
    {
     "data": {
      "text/markdown": [
       "#### 棋士のデータ：[4.400e+01 2.600e+01 9.300e+02 5.624e-01 5.680e-01 5.580e-01 1.000e+00\n",
       " 1.000e+00 3.000e+00 1.100e+01 1.200e-02 1.019e+00]"
      ],
      "text/plain": [
       "<IPython.core.display.Markdown object>"
      ]
     },
     "metadata": {},
     "output_type": "display_data"
    },
    {
     "data": {
      "text/markdown": [
       "## 千日手の回数：10回以上"
      ],
      "text/plain": [
       "<IPython.core.display.Markdown object>"
      ]
     },
     "metadata": {},
     "output_type": "display_data"
    },
    {
     "data": {
      "text/markdown": [
       "#### 棋士のデータ：[2.200e+01 3.000e+00 9.300e+01 5.699e-01 6.820e-01 4.690e-01 0.000e+00\n",
       " 0.000e+00 0.000e+00 3.000e+00 3.200e-02 1.453e+00]"
      ],
      "text/plain": [
       "<IPython.core.display.Markdown object>"
      ]
     },
     "metadata": {},
     "output_type": "display_data"
    },
    {
     "data": {
      "text/markdown": [
       "## 千日手の回数：10回未満"
      ],
      "text/plain": [
       "<IPython.core.display.Markdown object>"
      ]
     },
     "metadata": {},
     "output_type": "display_data"
    },
    {
     "data": {
      "text/markdown": [
       "#### 棋士のデータ：[6.600e+01 4.000e+01 1.080e+03 4.222e-01 4.320e-01 4.110e-01 1.000e+00\n",
       " 1.000e+00 7.000e+00 1.400e+01 1.300e-02 1.051e+00]"
      ],
      "text/plain": [
       "<IPython.core.display.Markdown object>"
      ]
     },
     "metadata": {},
     "output_type": "display_data"
    },
    {
     "data": {
      "text/markdown": [
       "## 千日手の回数：10回以上"
      ],
      "text/plain": [
       "<IPython.core.display.Markdown object>"
      ]
     },
     "metadata": {},
     "output_type": "display_data"
    },
    {
     "data": {
      "text/markdown": [
       "#### 棋士のデータ：[4.500e+01 2.700e+01 1.249e+03 6.117e-01 6.260e-01 5.980e-01 2.000e+00\n",
       " 2.000e+00 2.000e+00 3.000e+01 2.400e-02 1.048e+00]"
      ],
      "text/plain": [
       "<IPython.core.display.Markdown object>"
      ]
     },
     "metadata": {},
     "output_type": "display_data"
    },
    {
     "data": {
      "text/markdown": [
       "## 千日手の回数：10回以上"
      ],
      "text/plain": [
       "<IPython.core.display.Markdown object>"
      ]
     },
     "metadata": {},
     "output_type": "display_data"
    },
    {
     "data": {
      "text/markdown": [
       "#### 棋士のデータ：[5.500e+01 3.500e+01 1.072e+03 4.543e-01 4.680e-01 3.910e-01 7.000e+00\n",
       " 4.000e+00 1.000e+00 7.000e+00 7.000e-03 1.199e+00]"
      ],
      "text/plain": [
       "<IPython.core.display.Markdown object>"
      ]
     },
     "metadata": {},
     "output_type": "display_data"
    },
    {
     "data": {
      "text/markdown": [
       "## 千日手の回数：10回未満"
      ],
      "text/plain": [
       "<IPython.core.display.Markdown object>"
      ]
     },
     "metadata": {},
     "output_type": "display_data"
    },
    {
     "data": {
      "text/markdown": [
       "#### 棋士のデータ：[7.300e+01 4.500e+01 1.411e+03 4.819e-01 4.960e-01 4.610e-01 5.000e+00\n",
       " 3.000e+00 2.000e+00 8.000e+00 6.000e-03 1.077e+00]"
      ],
      "text/plain": [
       "<IPython.core.display.Markdown object>"
      ]
     },
     "metadata": {},
     "output_type": "display_data"
    },
    {
     "data": {
      "text/markdown": [
       "## 千日手の回数：10回未満"
      ],
      "text/plain": [
       "<IPython.core.display.Markdown object>"
      ]
     },
     "metadata": {},
     "output_type": "display_data"
    },
    {
     "data": {
      "text/markdown": [
       "#### 棋士のデータ：[ 66.      25.     129.       0.3672   0.4      0.333    0.      10.\n",
       "   3.       0.       0.       1.2   ]"
      ],
      "text/plain": [
       "<IPython.core.display.Markdown object>"
      ]
     },
     "metadata": {},
     "output_type": "display_data"
    },
    {
     "data": {
      "text/markdown": [
       "## 千日手の回数：10回未満"
      ],
      "text/plain": [
       "<IPython.core.display.Markdown object>"
      ]
     },
     "metadata": {},
     "output_type": "display_data"
    },
    {
     "data": {
      "text/markdown": [
       "#### 棋士のデータ：[5.000e+01 2.900e+01 1.165e+03 5.768e-01 6.060e-01 5.450e-01 1.000e+00\n",
       " 0.000e+00 0.000e+00 3.800e+01 3.300e-02 1.112e+00]"
      ],
      "text/plain": [
       "<IPython.core.display.Markdown object>"
      ]
     },
     "metadata": {},
     "output_type": "display_data"
    },
    {
     "data": {
      "text/markdown": [
       "## 千日手の回数：10回以上"
      ],
      "text/plain": [
       "<IPython.core.display.Markdown object>"
      ]
     },
     "metadata": {},
     "output_type": "display_data"
    },
    {
     "data": {
      "text/markdown": [
       "#### 棋士のデータ：[7.300e+01 4.300e+01 2.094e+03 6.255e-01 6.460e-01 5.970e-01 4.000e+00\n",
       " 5.000e+00 6.000e+00 2.500e+01 1.200e-02 1.082e+00]"
      ],
      "text/plain": [
       "<IPython.core.display.Markdown object>"
      ]
     },
     "metadata": {},
     "output_type": "display_data"
    },
    {
     "data": {
      "text/markdown": [
       "## 千日手の回数：10回以上"
      ],
      "text/plain": [
       "<IPython.core.display.Markdown object>"
      ]
     },
     "metadata": {},
     "output_type": "display_data"
    },
    {
     "data": {
      "text/markdown": [
       "#### 棋士のデータ：[2.900e+01 1.200e+01 5.570e+02 6.391e-01 7.390e-01 5.690e-01 1.000e+00\n",
       " 1.200e+01 2.000e+00 1.000e+01 1.800e-02 1.299e+00]"
      ],
      "text/plain": [
       "<IPython.core.display.Markdown object>"
      ]
     },
     "metadata": {},
     "output_type": "display_data"
    },
    {
     "data": {
      "text/markdown": [
       "## 千日手の回数：10回以上"
      ],
      "text/plain": [
       "<IPython.core.display.Markdown object>"
      ]
     },
     "metadata": {},
     "output_type": "display_data"
    },
    {
     "data": {
      "text/markdown": [
       "#### 棋士のデータ：[43.     20.     59.      0.4746  0.5     0.8     0.      2.      1.\n",
       "  4.      0.068   0.625 ]"
      ],
      "text/plain": [
       "<IPython.core.display.Markdown object>"
      ]
     },
     "metadata": {},
     "output_type": "display_data"
    },
    {
     "data": {
      "text/markdown": [
       "## 千日手の回数：10回未満"
      ],
      "text/plain": [
       "<IPython.core.display.Markdown object>"
      ]
     },
     "metadata": {},
     "output_type": "display_data"
    },
    {
     "data": {
      "text/markdown": [
       "#### 棋士のデータ：[6.200e+01 2.500e+01 5.780e+02 3.858e-01 4.110e-01 3.490e-01 4.000e+00\n",
       " 1.000e+00 2.000e+00 7.000e+00 1.200e-02 1.177e+00]"
      ],
      "text/plain": [
       "<IPython.core.display.Markdown object>"
      ]
     },
     "metadata": {},
     "output_type": "display_data"
    },
    {
     "data": {
      "text/markdown": [
       "## 千日手の回数：10回未満"
      ],
      "text/plain": [
       "<IPython.core.display.Markdown object>"
      ]
     },
     "metadata": {},
     "output_type": "display_data"
    }
   ],
   "source": [
    "# now, modify iteration in previous cell to actually show how much 千日手 that each players have\n",
    "from IPython.display import display, Markdown\n",
    "\n",
    "for _ in range(20):\n",
    "    random_data = random_test_data(X_test, y_test)\n",
    "    \n",
    "    pred_input = random_data[1]\n",
    "    pred_out = '10回未満' if prediction[random_data[0]] == 1 else '10回以上'\n",
    "    \n",
    "    display(Markdown(f'#### 棋士のデータ：{pred_input}'))\n",
    "    display(Markdown(f'## 千日手の回数：{pred_out}'))"
   ]
  },
  {
   "cell_type": "markdown",
   "metadata": {},
   "source": [
    "## Conclusion:\n",
    " Based on result for testing data, both logistic regression and svc seems to have really high accuracy. Maybe there is an overfitting for this particular dataset, so it might be better to test with amature player dataset to figure out whether overfitting occured or not in the future."
   ]
  }
 ],
 "metadata": {
  "kernelspec": {
   "display_name": "Python 3",
   "language": "python",
   "name": "python3"
  },
  "language_info": {
   "codemirror_mode": {
    "name": "ipython",
    "version": 3
   },
   "file_extension": ".py",
   "mimetype": "text/x-python",
   "name": "python",
   "nbconvert_exporter": "python",
   "pygments_lexer": "ipython3",
   "version": "3.7.6"
  }
 },
 "nbformat": 4,
 "nbformat_minor": 4
}
